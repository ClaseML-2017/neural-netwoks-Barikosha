{
 "cells": [
  {
   "cell_type": "raw",
   "metadata": {},
   "source": [
    "Varvara Yakovleva 176984"
   ]
  },
  {
   "cell_type": "code",
   "execution_count": 91,
   "metadata": {},
   "outputs": [],
   "source": [
    "import tensorflow as tf\n",
    "import numpy as np\n",
    "import matplotlib.pyplot as plt\n",
    "import random\n",
    "import pandas as pd"
   ]
  },
  {
   "cell_type": "markdown",
   "metadata": {},
   "source": [
    "# A logistic regression for the AND "
   ]
  },
  {
   "cell_type": "code",
   "execution_count": 75,
   "metadata": {},
   "outputs": [],
   "source": [
    "X = np.asarray([[0,0],[0,1],[1,0],[1,1]])\n",
    "Y = np.asarray([[0],[0],[0],[1]])\n",
    "\n",
    "x = tf.placeholder(tf.float32, [None, 2])\n",
    "y = tf.placeholder(tf.float32, [None,1])\n",
    "\n",
    "W= tf.Variable(tf.random_uniform([2,1], -1, 1), name=\"W\")\n",
    "b = tf.Variable(tf.zeros([1]), name=\"b\")\n",
    "\n",
    "V = tf.nn.sigmoid(tf.matmul(x,W)+b)\n",
    "\n",
    "lossfn = tf.reduce_mean(tf.reduce_sum((y-V)**2)) \n",
    "optimizer = tf.train.GradientDescentOptimizer(0.01).minimize(lossfn)\n",
    "\n",
    "init = tf.global_variables_initializer()\n",
    "sess = tf.Session()"
   ]
  },
  {
   "cell_type": "code",
   "execution_count": 76,
   "metadata": {
    "collapsed": true
   },
   "outputs": [],
   "source": [
    "sess.run(init)\n",
    "for i in range(5000):\n",
    "  sess.run(optimizer, feed_dict={x: X, y: Y})"
   ]
  },
  {
   "cell_type": "code",
   "execution_count": 77,
   "metadata": {},
   "outputs": [
    {
     "name": "stdout",
     "output_type": "stream",
     "text": [
      "1.0\n"
     ]
    }
   ],
   "source": [
    "correct_prediction = tf.equal(tf.round(V),y)\n",
    "accuracy = tf.reduce_mean(tf.cast(correct_prediction, tf.float32))\n",
    "print(sess.run(accuracy, feed_dict={x: X, y: Y}))"
   ]
  },
  {
   "cell_type": "code",
   "execution_count": 78,
   "metadata": {},
   "outputs": [],
   "source": [
    "w=[sess.run(b, feed_dict={x: X, y: Y})[0]]+[i[0] for i in sess.run(W, feed_dict={x: X, y: Y})]"
   ]
  },
  {
   "cell_type": "code",
   "execution_count": 79,
   "metadata": {
    "collapsed": true
   },
   "outputs": [],
   "source": [
    "gradient = ((w[0]/w[2]))/((-w[0]/w[1]))"
   ]
  },
  {
   "cell_type": "code",
   "execution_count": 80,
   "metadata": {},
   "outputs": [
    {
     "data": {
      "image/png": "[encoded data removed]",
      "text/plain": [
       "<matplotlib.figure.Figure at 0x116539110>"
      ]
     },
     "metadata": {},
     "output_type": "display_data"
    }
   ],
   "source": [
    "plt.scatter(X[:,0],X[:,1],color=['green' if i==1 else 'red' for i in Y])\n",
    "randompoints = np.linspace(-10,10,10) # 100 numeros espaciados\n",
    "plt.plot(randompoints,-w[0]/w[2] + gradient*randompoints ,color='green')\n",
    "plt.ylim([-5.5,5.5])\n",
    "plt.xlim([-5.5,5.5])\n",
    "plt.show()\n",
    "\n",
    "sess.close()"
   ]
  },
  {
   "cell_type": "markdown",
   "metadata": {},
   "source": [
    "# A logistic regression for the XOR"
   ]
  },
  {
   "cell_type": "code",
   "execution_count": 81,
   "metadata": {},
   "outputs": [
    {
     "name": "stdout",
     "output_type": "stream",
     "text": [
      "0.25\n"
     ]
    },
    {
     "data": {
      "image/png": "[encoded data removed]",
      "text/plain": [
       "<matplotlib.figure.Figure at 0x1145abe90>"
      ]
     },
     "metadata": {},
     "output_type": "display_data"
    }
   ],
   "source": [
    "X=np.asarray([[0,0],[0,1],[1,0],[1,1]])\n",
    "Y=np.asarray([[0],[1],[1],[0]])\n",
    "\n",
    "x = tf.placeholder(tf.float32, [None, 2])\n",
    "y = tf.placeholder(tf.float32, [None,1])\n",
    "\n",
    "W= tf.Variable(tf.random_uniform([2,1], -1, 1), name=\"W\")\n",
    "b = tf.Variable(tf.zeros([1]), name=\"b\")\n",
    "\n",
    "V = tf.nn.sigmoid(tf.matmul(x,W)+b)\n",
    "\n",
    "lossfn = tf.reduce_mean(tf.reduce_sum((y-V)**2)) \n",
    "optimizer = tf.train.GradientDescentOptimizer(0.01).minimize(lossfn)\n",
    "\n",
    "init = tf.global_variables_initializer()\n",
    "sess = tf.Session()\n",
    "\n",
    "sess.run(init)\n",
    "for i in range(5000):\n",
    "  sess.run(optimizer, feed_dict={x: X, y: Y})\n",
    "\n",
    "correct_prediction = tf.equal(tf.round(V),y)\n",
    "accuracy = tf.reduce_mean(tf.cast(correct_prediction, tf.float32))\n",
    "print(sess.run(accuracy, feed_dict={x: X, y: Y}))\n",
    "\n",
    "w=[sess.run(b, feed_dict={x: X, y: Y})[0]]+[i[0] for i in sess.run(W, feed_dict={x: X, y: Y})]\n",
    "\n",
    "gradient = ((w[0]/w[2]))/((-w[0]/w[1]))\n",
    "\n",
    "plt.scatter(X[:,0],X[:,1],color=['green' if i==1 else 'red' for i in Y])\n",
    "\n",
    "boundary = np.linspace(-5.5,5.5,100)# 100 numeros espaciados\n",
    "plt.plot(boundary,boundary - gradient/2,c='red')\n",
    "plt.plot(boundary,boundary + gradient/2,c='red')\n",
    "plt.ylim([-5.5,5.5])\n",
    "plt.xlim([-5.5,5.5])\n",
    "plt.show()\n",
    "\n",
    "sess.close()"
   ]
  },
  {
   "cell_type": "markdown",
   "metadata": {},
   "source": [
    "# Train a ANN for the XOR problem"
   ]
  },
  {
   "cell_type": "code",
   "execution_count": 113,
   "metadata": {},
   "outputs": [],
   "source": [
    "X=np.asarray([[0,0],[0,1],[1,0],[1,1]])\n",
    "Y=np.asarray([[0],[1],[1],[0]])\n",
    "\n",
    "input_size=2 # my future layer1\n",
    "output_layer_size=1 # my future layer3\n",
    "hidden_layer_size=2 # my future layer2\n",
    "\n",
    "layer1 = tf.placeholder(tf.float32, shape=[4,2])\n",
    "W_layer1 = tf.Variable(tf.random_uniform([input_size,hidden_layer_size], -1, 1))\n",
    "b_layer1 = tf.Variable(tf.zeros([hidden_layer_size]))\n",
    "\n",
    "\n",
    "layer2 = tf.sigmoid(tf.matmul(layer1, W_layer1) + b_layer1)\n",
    "W_layer2 = tf.Variable(tf.random_uniform([hidden_layer_size,output_layer_size], -1, 1))\n",
    "b_layer2 = tf.Variable(tf.zeros([output_layer_size]))\n",
    "\n",
    "layer3 = tf.placeholder(tf.float32, shape=[4,1])\n",
    "output = tf.sigmoid(tf.matmul(layer2, W_layer2) + b_layer2)\n",
    "\n",
    "lossfn = tf.reduce_mean(((layer3 * tf.log(output)) + ((1 - layer3) * tf.log(1.0 - output))) * -1)\n",
    "optimizer = tf.train.GradientDescentOptimizer(0.01).minimize(lossfn)\n",
    "\n",
    "init = tf.global_variables_initializer()\n",
    "sess = tf.Session()"
   ]
  },
  {
   "cell_type": "code",
   "execution_count": 114,
   "metadata": {},
   "outputs": [
    {
     "data": {
      "image/png": "[encoded data removed]",
      "text/plain": [
       "<matplotlib.figure.Figure at 0x1197d8d10>"
      ]
     },
     "metadata": {},
     "output_type": "display_data"
    }
   ],
   "source": [
    "sess.run(init)\n",
    "for i in range(1000):\n",
    "  sess.run(optimizer, feed_dict={layer1: X, layer3: Y})\n",
    "\n",
    "w0 = sess.run(b_layer2[0])\n",
    "w1 = sess.run(W_layer2[0][0])\n",
    "w2 = sess.run(W_layer2[1][0])\n",
    "\n",
    "gradient = ((w0/w2))/((-w0/w1))\n",
    "\n",
    "boundary = np.linspace(-5.5,5.5,100)# 100 numeros espaciados\n",
    "plt.plot(boundary,boundary - gradient/2,c='red')\n",
    "plt.plot(boundary,boundary + gradient/2,c='red')\n",
    "plt.scatter(X[:,0], X[:,1], color=[\"green\" if i==1 else \"red\" for i in Y])\n",
    "plt.ylim([-5.5,5.5])\n",
    "plt.xlim([-5.5,5.5])\n",
    "plt.show()\n",
    "\n",
    "sess.close()"
   ]
  },
  {
   "cell_type": "markdown",
   "metadata": {},
   "source": [
    "# Train a ANN that identifies points inside a circle"
   ]
  },
  {
   "cell_type": "code",
   "execution_count": 126,
   "metadata": {},
   "outputs": [
    {
     "data": {
      "image/png": "[encoded data removed]",
      "text/plain": [
       "<matplotlib.figure.Figure at 0x1187d9a50>"
      ]
     },
     "metadata": {},
     "output_type": "display_data"
    }
   ],
   "source": [
    "#create a circle\n",
    "x1 = np.array([np.random.uniform(-6,6) for i in range(10000)])\n",
    "x2 = np.array([np.random.uniform(-6,6) for i in range(10000)])\n",
    "\n",
    "circle=pd.DataFrame(x1,columns=['x1'])\n",
    "circle['x2']=x2 \n",
    "circle['x1^2']=circle['x1']**2\n",
    "circle['x2^2']=circle['x1']**2\n",
    "circle['y']=(circle['x1']**2+circle['x2']**2).apply(lambda x: 1 if x<=16 else 0)\n",
    "\n",
    "plt.scatter(circle['x1'],circle['x2'],color='yellow')\n",
    "plt.scatter(circle[circle['y']==1]['x1'],circle[circle['y']==1]['x2'],color='red')\n",
    "plt.axis(\"equal\")\n",
    "plt.show()\n",
    "\n",
    "X=np.asarray(circle[['x1','x2']]) \n",
    "Y=np.asarray(circle[['y']])"
   ]
  },
  {
   "cell_type": "code",
   "execution_count": 127,
   "metadata": {
    "collapsed": true
   },
   "outputs": [],
   "source": [
    "input_size=2\n",
    "hidden_layer_size=4\n",
    "middle_layer_size=4\n",
    "output_layer_size=1\n",
    "x = tf.placeholder(tf.float32,shape=[None,input_size])\n",
    "y = tf.placeholder(tf.float32,shape=[None,output_layer_size])\n",
    "\n",
    "W_layer1 = tf.Variable(tf.random_uniform([input_size,middle_layer_size], -1, 1))\n",
    "b_layer1 = tf.Variable(tf.zeros([middle_layer_size]))\n",
    "\n",
    "W_layer2 = tf.Variable(tf.random_uniform([hidden_layer_size,output_layer_size], -1, 1))\n",
    "b_layer2 = tf.Variable(tf.zeros([output_layer_size]))\n",
    "\n",
    "hidden_1 = tf.nn.sigmoid(tf.matmul(x,W_layer1)+b_layer1)\n",
    "predict = tf.nn.sigmoid(tf.matmul(hidden_1,W_layer2)+b_layer2)\n",
    "lossfn = tf.reduce_mean(( (y * tf.log(predict) + ((1 - y) * tf.log(1.0 - predict)) ) * -1))\n",
    "\n",
    "optimizer = tf.train.GradientDescentOptimizer(0.01).minimize(lossfn)\n",
    "\n",
    "init = tf.global_variables_initializer()\n",
    "sess = tf.Session()\n",
    "sess.run(init)"
   ]
  },
  {
   "cell_type": "code",
   "execution_count": 132,
   "metadata": {},
   "outputs": [
    {
     "name": "stdout",
     "output_type": "stream",
     "text": [
      "0.6496\n"
     ]
    },
    {
     "data": {
      "image/png": "[encoded data removed]",
      "text/plain": [
       "<matplotlib.figure.Figure at 0x1165393d0>"
      ]
     },
     "metadata": {},
     "output_type": "display_data"
    }
   ],
   "source": [
    "for i in range(1000):\n",
    "    sess.run(optimizer, feed_dict={x: X, y: Y})\n",
    "    \n",
    "correct_prediction = tf.equal(tf.round(predict),y) \n",
    "accuracy = tf.reduce_mean(tf.cast(correct_prediction, tf.float32))\n",
    "print(sess.run(accuracy, feed_dict={x: X, y: Y}))\n",
    "\n",
    "prediction = sess.run(predict,feed_dict={x:X})\n",
    "plt.scatter(X[:,0],X[:,1],color=['red' if i==1 else 'yellow' for i in Y])\n",
    "plt.ylim([0,2])\n",
    "plt.xlim([0,2])\n",
    "plt.axis(\"equal\")\n",
    "plt.show()"
   ]
  },
  {
   "cell_type": "code",
   "execution_count": null,
   "metadata": {
    "collapsed": true
   },
   "outputs": [],
   "source": []
  }
 ],
 "metadata": {
  "kernelspec": {
   "display_name": "Python 2",
   "language": "python",
   "name": "python2"
  },
  "language_info": {
   "codemirror_mode": {
    "name": "ipython",
    "version": 2
   },
   "file_extension": ".py",
   "mimetype": "text/x-python",
   "name": "python",
   "nbconvert_exporter": "python",
   "pygments_lexer": "ipython2",
   "version": "2.7.10"
  }
 },
 "nbformat": 4,
 "nbformat_minor": 2
}
